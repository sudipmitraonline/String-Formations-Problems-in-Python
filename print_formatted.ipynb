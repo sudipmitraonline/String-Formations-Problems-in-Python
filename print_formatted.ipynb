{
  "nbformat": 4,
  "nbformat_minor": 0,
  "metadata": {
    "colab": {
      "name": "print_formatted.ipynb",
      "provenance": [],
      "collapsed_sections": [],
      "authorship_tag": "ABX9TyPYJVJ8UcVWBgV2kw+KCt1k",
      "include_colab_link": true
    },
    "kernelspec": {
      "name": "python3",
      "display_name": "Python 3"
    }
  },
  "cells": [
    {
      "cell_type": "markdown",
      "metadata": {
        "id": "view-in-github",
        "colab_type": "text"
      },
      "source": [
        "<a href=\"https://colab.research.google.com/github/sudipmitraonline/String-Formations-Problems-in-Python/blob/master/print_formatted.ipynb\" target=\"_parent\"><img src=\"https://colab.research.google.com/assets/colab-badge.svg\" alt=\"Open In Colab\"/></a>"
      ]
    },
    {
      "cell_type": "markdown",
      "metadata": {
        "id": "ZUA1Ky2ch0WJ",
        "colab_type": "text"
      },
      "source": [
        "Given an integer, n , print the following values for each integer i from l to n:\n",
        "\n",
        "1. Decimal\n",
        "2. Octal\n",
        "3. Hexadecimal (capitalized)\n",
        "4. Binary\n",
        "\n",
        "\n",
        "**Sample Input**\n",
        "\n",
        "9\n",
        "\n",
        "\n",
        "**Sample Output**\n",
        "\n",
        "    1     1     1     1\n",
        "    2     2     2    10\n",
        "    3     3     3    11\n",
        "    4     4     4   100\n",
        "    5     5     5   101\n",
        "    6     6     6   110\n",
        "    7     7     7   111\n",
        "    8    10     8  1000\n",
        "    9    11     9  1001  \n",
        "\n"
      ]
    },
    {
      "cell_type": "code",
      "metadata": {
        "id": "Lw3Rqip70KB3",
        "colab_type": "code",
        "outputId": "1782af14-a188-4720-ce2d-0a2670f3f548",
        "colab": {
          "base_uri": "https://localhost:8080/",
          "height": 370
        }
      },
      "source": [
        "def print_formatted(n):\n",
        "    width = len(\"{0:b}\".format(n))\n",
        "    for i in range(1,n+1):\n",
        "        print (\"{0:{width}d}    {0:{width}o}    {0:{width}X}    {0:{width}b}\".format(i, width=width))\n",
        "        \n",
        "#@Author : Sudip Mitra\n",
        "if __name__ == '__main__':\n",
        "    n = int(input())\n",
        "    print_formatted(n)"
      ],
      "execution_count": 2,
      "outputs": [
        {
          "output_type": "stream",
          "text": [
            "20\n",
            "    1        1        1        1\n",
            "    2        2        2       10\n",
            "    3        3        3       11\n",
            "    4        4        4      100\n",
            "    5        5        5      101\n",
            "    6        6        6      110\n",
            "    7        7        7      111\n",
            "    8       10        8     1000\n",
            "    9       11        9     1001\n",
            "   10       12        A     1010\n",
            "   11       13        B     1011\n",
            "   12       14        C     1100\n",
            "   13       15        D     1101\n",
            "   14       16        E     1110\n",
            "   15       17        F     1111\n",
            "   16       20       10    10000\n",
            "   17       21       11    10001\n",
            "   18       22       12    10010\n",
            "   19       23       13    10011\n",
            "   20       24       14    10100\n"
          ],
          "name": "stdout"
        }
      ]
    }
  ]
}